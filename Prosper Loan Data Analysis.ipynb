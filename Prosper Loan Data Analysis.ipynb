{
 "cells": [
  {
   "cell_type": "markdown",
   "metadata": {
    "slideshow": {
     "slide_type": "slide"
    }
   },
   "source": [
    "# Part II - Prosper Loan Data Analysis\n",
    "## by Fidel Kalele Wafula"
   ]
  },
  {
   "cell_type": "markdown",
   "metadata": {
    "slideshow": {
     "slide_type": "slide"
    }
   },
   "source": [
    "## Investigation Overview\n",
    "The investigation of the Prosper Loans Data particularly aimed to look into how the borrower interest rate and the Prosper's loan credit rating interacts with other loan features, as well as explore the loan disbursement trends over time in order to inform the institution on the effective  business growth startegies.\n",
    "\n",
    "\n",
    "## Dataset Overview\n",
    "The Prosper Loans dataset had 113,937 loans with 81 features, such as, credit grade, loan status, borrower APR among others. After performing preliminary data wrangling on the original data, the resulting clean data set had 83,981 rows and 18 columns. These variables are majorly either numeric or categorical."
   ]
  },
  {
   "cell_type": "code",
   "execution_count": null,
   "metadata": {
    "slideshow": {
     "slide_type": "skip"
    }
   },
   "outputs": [],
   "source": [
    "# import all packages and set plots to be embedded inline\n",
    "import numpy as np\n",
    "import pandas as pd\n",
    "import matplotlib.pyplot as plt\n",
    "import seaborn as sb\n",
    "\n",
    "%matplotlib inline\n",
    "\n",
    "# suppress warnings from final output\n",
    "import warnings\n",
    "warnings.simplefilter(\"ignore\")"
   ]
  },
  {
   "cell_type": "code",
   "execution_count": null,
   "metadata": {
    "slideshow": {
     "slide_type": "skip"
    }
   },
   "outputs": [],
   "source": [
    "# load in the dataset into a pandas dataframe\n",
    "loans = pd.read_csv('prosperLoanData.csv')\n",
    "\n",
    "# Subset the dataset to extract variables of interest:\n",
    "columns = ['ListingCreationDate','Term','LoanStatus','BorrowerAPR','BorrowerRate','ListingCategory (numeric)',\n",
    "           'Occupation','EmploymentStatus','DebtToIncomeRatio','IncomeRange','StatedMonthlyIncome','MonthlyLoanPayment',\n",
    "           'LoanOriginalAmount','LoanOriginationDate','ProsperRating (Alpha)','IsBorrowerHomeowner']\n",
    "loans_sub = loans[columns]\n",
    "\n",
    "# Extract only the non-duplicated records:\n",
    "loans_sub = loans_sub.loc[~loans_sub.duplicated(),:]\n",
    "\n",
    "# Fill null entries on the Occupation variable as 'Unspecified':\n",
    "loans_sub['Occupation'] = loans_sub['Occupation'].fillna('Unspecified')\n",
    "\n",
    "# Eliminate null entries in the Prosper Rating (Alpha) variable:\n",
    "loans_sub = loans_sub.loc[loans_sub['ProsperRating (Alpha)'].notnull()]\n",
    "\n",
    "# Amend Prosper Rating and Income ranges to ordered categories:\n",
    "\n",
    "# Store the correct variable orders in a dictionary:\n",
    "ordered_dict = {'ProsperRating (Alpha)': ['AA', 'A', 'B', 'C', 'D', 'E','HR'],\n",
    "                'IncomeRange': ['$0', '$1-24,999', '$25,000-49,999', \n",
    "                              '$50,000-74,999', '$75,000-99,999', '$100,000+']}\n",
    "\n",
    "# Use for loop to assign each column to the proper order\n",
    "for key, value in ordered_dict.items():\n",
    "    ordered_cat = pd.api.types.CategoricalDtype(categories=value, ordered=True)\n",
    "    loans_sub[key] = loans_sub[key].astype(ordered_cat)\n",
    "\n",
    "# Mapping listing category numeric value to its description:\n",
    "numeric_list = {0 : 'Not Available', 1 : 'Debt Consolidation', 2 : 'Home Improvement', 3: 'Business', \n",
    "             4 : 'Personal Loan', 5 : 'Student Use', 6 : 'Auto', 7 : 'Other', 8 : 'Baby&Adoption', \n",
    "             9 : 'Boat', 10 : 'Cosmetic Procedure', 11 : 'Engagement Ring', 12 : 'Green Loans', \n",
    "             13 : 'Household Expenses', 14 : 'Large Purchases', 15 : 'Medical/Dental', 16 : 'Motorcycle', \n",
    "             17 : 'RV', 18 : 'Taxes', 19 : 'Vacation', 20 : 'Wedding Loans'}\n",
    "\n",
    "loans_sub['ListingCategory'] = loans_sub['ListingCategory (numeric)'].map(numeric_list)\n",
    "\n",
    "# Delete numeric losting categories to retain only the descriptive listings column:\n",
    "loans_sub.drop(['ListingCategory (numeric)'], axis=1, inplace=True)\n",
    "\n",
    "# Amend the data types of datetime variables to appropriately:\n",
    "loans_sub['LoanOriginationDate'] = pd.to_datetime(loans_sub['LoanOriginationDate'])\n",
    "loans_sub['ListingCreationDate'] = pd.to_datetime(loans_sub['ListingCreationDate'])\n",
    "\n",
    "# Extract date information from ListingCreationDate column\n",
    "loans_sub['ListingDate'] = loans_sub['ListingCreationDate'].dt.date\n",
    "\n",
    "# Extract year information from ListingCreationDate column\n",
    "loans_sub['ListingYear'] = loans_sub['ListingCreationDate'].dt.year\n",
    "\n",
    "# Extract month information from ListingCreationDate column\n",
    "loans_sub['ListingMonth'] = loans_sub['ListingCreationDate'].dt.month\n",
    "\n",
    "# Convert 'ListingDate' type from str to datetime \n",
    "loans_sub['ListingDate'] = pd.to_datetime(loans_sub['ListingDate'])\n",
    "\n",
    "# Drop unused column\n",
    "loans_sub.drop(['ListingCreationDate'], axis=1, inplace=True)\n",
    "\n",
    "# Convert 'ListingMonth' type  from int64 to str:\n",
    "loans_sub['ListingMonth'] = loans_sub['ListingMonth'].astype(str)\n",
    "\n",
    "# Replace the numerical representation of months to text of the format 'mmm':\n",
    "loans_sub['ListingMonth'] = loans_sub['ListingMonth'].replace(['1', '2','3','4','5','6','7','8', '9','10','11','12'], \n",
    "                                                              ['Jan','Feb','Mar','Apr','May','Jun','Jul','Aug','Sept','Oct','Nov','Dec'])\n",
    "\n",
    "# Amend the data type of listing month to ordered categorical:\n",
    "ordered_months = ['Jan','Feb','Mar','Apr','May','Jun','Jul','Aug','Sept','Oct','Nov','Dec']\n",
    "months_class = pd.api.types.CategoricalDtype(ordered = True, categories = ordered_months)\n",
    "loans_sub['ListingMonth'] = loans_sub['ListingMonth'].astype(months_class)\n",
    "\n",
    "# Convert Listing Year data type from integer to string:\n",
    "loans_sub['ListingYear'] = loans_sub['ListingYear'].astype(str)\n",
    "\n",
    "# Drop duplicates:\n",
    "loans_sub = loans_sub.drop_duplicates()\n",
    "\n",
    "# Drop null entry records:\n",
    "loans_sub = loans_sub[~loans_sub.isnull()]"
   ]
  },
  {
   "cell_type": "markdown",
   "metadata": {
    "collapsed": true,
    "slideshow": {
     "slide_type": "slide"
    }
   },
   "source": [
    "## Overall Distribution of Customers' Prosper Loan Credit Ratings\n",
    "The Prosper Credit Ratings are arranged from 'AA' (lowest risk, lowest return) to 'HR' (highest risk, highest return). The credit rating 'C' is the rating with the highest number of borrowers (21.6%), while 'AA' has the least number (6.3%)."
   ]
  },
  {
   "cell_type": "code",
   "execution_count": null,
   "metadata": {
    "slideshow": {
     "slide_type": "subslide"
    }
   },
   "outputs": [],
   "source": [
    "# Calculate counts of total loans and total loans per prosper rating:\n",
    "counts = loans_sub['ProsperRating (Alpha)'].value_counts()\n",
    "n_loans = loans_sub['ProsperRating (Alpha)'].value_counts().sum()\n",
    "\n",
    "# Plot the the distribution of the loan customers across the prosper rating:\n",
    "plt.figure(figsize=[8,6])\n",
    "base_color = sb.color_palette()[0]\n",
    "sb.barplot(loans_sub['ProsperRating (Alpha)'].value_counts().index.values, counts, color = base_color);\n",
    "plt.ylim(0, 20000)\n",
    "plt.xlabel('Prosper Credit Rating');\n",
    "plt.ylabel('Count of Borrowers');\n",
    "plt.title('Distribution of Loan Borrowers across Prosper Ratings:');\n",
    "\n",
    "# Loop through the prosper rating categories to compute and display percentage:\n",
    "for i in range(counts.shape[0]):\n",
    "    count = counts[i]\n",
    "    pct_string = '{:0.1f}%'.format(100*count/n_loans)\n",
    "    plt.text(i-0.1,count+700, pct_string, va = 'center');\n",
    "plt.show()"
   ]
  },
  {
   "cell_type": "markdown",
   "metadata": {
    "collapsed": true,
    "slideshow": {
     "slide_type": "slide"
    }
   },
   "source": [
    "## Prosper's Loan Book Performance\n",
    "The majority of the loans in the Prosper's loan book are paying well (i.e. either in the current status or completed status). All loans that were past due were aggregated into one category, 'Past Due' which consituted only 2.4% of the loan book. The remaining categories of loans comprised of loans that were either charged off or defaulted (7.5%)."
   ]
  },
  {
   "cell_type": "code",
   "execution_count": null,
   "metadata": {
    "slideshow": {
     "slide_type": "subslide"
    }
   },
   "outputs": [],
   "source": [
    "# Use lambda function to lump all past due categories into ine category, 'Past Due':\n",
    "loans_sub['LoanStatus'] = loans_sub['LoanStatus'].apply(lambda x: x if 'Past Due' not in x else 'Past Due')\n",
    "\n",
    "n_counts = loans_sub['LoanStatus'].value_counts().sum()\n",
    "counts = loans_sub['LoanStatus'].value_counts()\n",
    "\n",
    "# Plot the count of borrwers in the different loan status:\n",
    "plt.figure(figsize=[8,6])\n",
    "sb.barplot(loans_sub['LoanStatus'].value_counts().index, counts, color=base_color)\n",
    "plt.xticks(rotation=45);\n",
    "plt.xlabel('Loan Status');\n",
    "plt.ylabel('Count of Borrowers')\n",
    "plt.title('Count of customers per Loan Status type');\n",
    "\n",
    "# Use for loop to label each bar with its equivalent percentage:\n",
    "for i in range(counts.shape[0]):\n",
    "    count = counts[i]\n",
    "    pct_string = '{:0.1f}%'.format(100*count/n_loans)\n",
    "    plt.text(i-0.1,count+700, pct_string, va = 'center');\n",
    "\n",
    "plt.show()"
   ]
  },
  {
   "cell_type": "markdown",
   "metadata": {
    "slideshow": {
     "slide_type": "slide"
    }
   },
   "source": [
    "## Propser Loans Disbursements Trends\n",
    "The loan disbursements amounts are highest at the beginning and end of the year. Towards mid-year, the disbursement values decrease. However, there are distinct cases of high loan amounts applied depicted by the outliers on the below box plots of the months between April and August."
   ]
  },
  {
   "cell_type": "code",
   "execution_count": null,
   "metadata": {
    "slideshow": {
     "slide_type": "subslide"
    }
   },
   "outputs": [],
   "source": [
    "# Plot relationship between total loan amounts and the listing month:\n",
    "plt.figure(figsize=[10,6])\n",
    "ax = sb.boxplot(data=loans_sub, x='ListingMonth', y='LoanOriginalAmount', color=base_color);\n",
    "plt.xlabel('Listing Month');\n",
    "plt.ylabel('Total Loan Amount ($)');\n",
    "plt.title('Relationship between Total Loan Amounts applied and Listing Month');\n",
    "plt.show()"
   ]
  },
  {
   "cell_type": "markdown",
   "metadata": {
    "slideshow": {
     "slide_type": "slide"
    }
   },
   "source": [
    "## Relationship between the Borrower Rate, Loan Term and Prosper Ratings\n",
    "The borrower rate generally is lower for best rated loans while it increases as the loan ratings deteroriates. Across most of the rating categories, borrower rate increases with the increasing loan term, except for worst rating (HR) whose only term is medium term (36 months)."
   ]
  },
  {
   "cell_type": "code",
   "execution_count": null,
   "metadata": {
    "slideshow": {
     "slide_type": "subslide"
    }
   },
   "outputs": [],
   "source": [
    "plt.figure(figsize=(10,6))\n",
    "ax = sb.pointplot(data = loans_sub, x = 'ProsperRating (Alpha)', y = 'BorrowerRate', \n",
    "                  hue = 'Term', palette = 'Greens', linestyles = '', dodge = 0.4, ci = 'sd')\n",
    "plt.xlabel('Prosper Rating');\n",
    "plt.ylabel('Borrower Interest Rate');\n",
    "plt.title('Relationship between the Borrower Rate, Loan Term and Prosper Ratings');\n",
    "plt.yticks(np.arange(.05, .4, .05), ['5%', '10%', '15%', '20%', '25%', '30%', '35%', '40%']);\n",
    "plt.show()"
   ]
  },
  {
   "cell_type": "markdown",
   "metadata": {
    "slideshow": {
     "slide_type": "slide"
    }
   },
   "source": [
    "## Borrower APR and Loan Status for various Employment Status\n",
    "Customers whose loans are status are complete, current or having final payment in progress are cheaper as they enjoy lower APR. Furthermore, employed, full-time, retired and part-time employees exhibit good performance on loans as compared to other employment statuses. Subsequently, these particular categories of employees enjoy cheaper loans wih least APR."
   ]
  },
  {
   "cell_type": "code",
   "execution_count": null,
   "metadata": {
    "slideshow": {
     "slide_type": "subslide"
    }
   },
   "outputs": [],
   "source": [
    "# Create list for the performing loans:\n",
    "status_performing = ['Completed', 'Current', 'FinalPaymentInProgress']\n",
    "\n",
    "# A function to categorize each loan into performing/non-performing type:\n",
    "def status_cat (entry):\n",
    "    '''A function to categorize loan status'''\n",
    "    for status in status_performing:\n",
    "        if status in entry:\n",
    "            return 'Performing'\n",
    "    return 'Non-performing'\n",
    "\n",
    "# Apply status_cat function to classify loan status:\n",
    "loans_sub['StatusCategory'] = loans_sub.LoanStatus.apply(lambda x: status_cat(x))\n",
    "\n",
    "# Plot box plots of the borrower APR for the oerforming and non-performing loans per different employment status:\n",
    "plt.figure(figsize=[13, 6])\n",
    "sb.boxplot(data=loans_sub, x='EmploymentStatus', y='BorrowerAPR', hue='StatusCategory', dodge=0.3, color=base_color);\n",
    "plt.yticks(np.arange(.05, .5, .05), ['5%', '10%', '15%', '20%', '25%', '30%', '35%', '40%', '45%', '50%']);\n",
    "plt.title('Borrower APR and Loan Status for various Employment Status');\n",
    "plt.xlabel('Employment Status');\n",
    "plt.ylabel('Borrower APR');\n",
    "plt.xticks(rotation=45);\n",
    "plt.legend(loc=6, bbox_to_anchor=(1.0,0.5));"
   ]
  },
  {
   "cell_type": "markdown",
   "metadata": {
    "slideshow": {
     "slide_type": "slide"
    }
   },
   "source": [
    "## Borrower APR and Loan Original Amount against Prosper Rating with Loan Term\n",
    "There seems to be a negative correlation between Prosper rating and the borrower APR. Loans with the best ratings (AA, A) have the least APR, whereas the loans with bad ratings (E, HR) have the most APR. This is a balance control that rewards the best loan customers and motivates the high risk customers. Also, there is a considerable difference in the APRs of the best rated loans (A, AA) whose short and medium term loans have the least APRs.\n",
    "\n",
    "Customers with the best ratings are the most favorable borrowers of the long-term loans of higher amounts than the ones with poor ratings. This is still the case even for the medium- and short-term loans."
   ]
  },
  {
   "cell_type": "code",
   "execution_count": null,
   "metadata": {
    "slideshow": {
     "slide_type": "subslide"
    }
   },
   "outputs": [],
   "source": [
    "fig = plt.figure(figsize=(14, 6))\n",
    "\n",
    "plt.subplot(1, 2, 2)\n",
    "sb.pointplot(data=loans_sub, x='ProsperRating (Alpha)', y='LoanOriginalAmount', hue='Term', scale=.7, \n",
    "             errwidth=.8, palette='BuPu');\n",
    "plt.yticks(np.arange(4000, 20000, 4000), ['$ 4k', '$ 8k', '$ 12k', '$ 16k', '$ 20k']);\n",
    "plt.xlabel('Prosper Rating');\n",
    "plt.ylabel('Borrower APR');\n",
    "plt.title('Borrower APR vs Prosper Loan Rating');\n",
    "\n",
    "plt.subplot(1, 2, 1)\n",
    "sb.pointplot(data=loans_sub, x='ProsperRating (Alpha)', y='BorrowerAPR', hue='Term', scale=.7, linestyles='', palette='BuPu');\n",
    "plt.yticks(np.arange(0.05, 0.4, 0.05), ['5%', '10%', '15%', '20%', '25%', '30%', '35%', '40%']);\n",
    "plt.xlabel('Prosper Rating');\n",
    "plt.ylabel('Loan Original Amount');\n",
    "plt.title('Loan Original Amount vs Prosper Loan Rating');\n"
   ]
  },
  {
   "cell_type": "code",
   "execution_count": null,
   "metadata": {},
   "outputs": [],
   "source": [
    "# The command below will generate the HTML slideshow. \n",
    "!jupyter nbconvert Part_II_notebook.ipynb --to slides --post serve --no-input --no-prompt "
   ]
  }
 ],
 "metadata": {
  "celltoolbar": "Slideshow",
  "kernelspec": {
   "display_name": "Python 3",
   "language": "python",
   "name": "python3"
  },
  "language_info": {
   "codemirror_mode": {
    "name": "ipython",
    "version": 3
   },
   "file_extension": ".py",
   "mimetype": "text/x-python",
   "name": "python",
   "nbconvert_exporter": "python",
   "pygments_lexer": "ipython3",
   "version": "3.6.3"
  }
 },
 "nbformat": 4,
 "nbformat_minor": 2
}
